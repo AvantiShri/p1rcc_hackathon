{
 "cells": [
  {
   "cell_type": "code",
   "execution_count": 101,
   "metadata": {
    "collapsed": true
   },
   "outputs": [],
   "source": [
    "import os, re, gzip\n",
    "from __future__ import print_function, division\n",
    "\n",
    "\n",
    "def get_file_handle(filename,mode=\"r\"):                                         \n",
    "    if (re.search('.gz$',filename) or re.search('.gzip',filename)):             \n",
    "        if (mode==\"r\"):                                                         \n",
    "            mode=\"rb\";                                                          \n",
    "        elif (mode==\"w\"):                                                       \n",
    "            #I think write will actually append if the file already             \n",
    "            #exists...so you want to remove it if it exists                     \n",
    "            if os.path.isfile(filename):                                        \n",
    "                os.remove(filename);                                            \n",
    "        return gzip.open(filename,mode)                                         \n",
    "    else:                                                                       \n",
    "        return open(filename,mode) \n",
    "    \n",
    "def get_snv_variant_allele_frequencies(record):\n",
    "    #following https://github.com/Illumina/strelka/blob/master/docs/userGuide/README.md#somatic\n",
    "    ref = record.REF\n",
    "    alt = record.ALT\n",
    "    assert len(ref)==1\n",
    "    assert len(alt)==1\n",
    "    refcounts = getattr(record.genotype('TUMOR').data, str(ref[0])+'U')\n",
    "    altcounts = getattr(record.genotype('TUMOR').data, str(alt[0])+'U')\n",
    "    vaf = float(altcounts[0])/(altcounts[0] + refcounts[0])\n",
    "    return vaf"
   ]
  },
  {
   "cell_type": "code",
   "execution_count": 112,
   "metadata": {
    "collapsed": false
   },
   "outputs": [],
   "source": [
    "#install pyvcf\n",
    "import vcf\n",
    "\n",
    "#When I filter `somatic.snvs.vcf.gz` down to all rows that contained a “PASS” in the filter column,\n",
    "#the file size goes from 913M to 33M. Something to keep in mind.\n",
    "#The command I used to do the filtering was\n",
    "#`zcat somatic.snvs.vcf.gz | perl -lane 'if ((substr($_,0,1) eq \"#\") or ($F[6] eq 'PASS')) {print $_}' | gzip -c > passing_somatic.snvs.vcf.gz`\n",
    "\n",
    "somatic_vcf_file_path = \"data/somatic/results/variants/passing_somatic.snvs.vcf.gz\"\n",
    "vcf_reader = vcf.Reader(open(somatic_vcf_file_path))\n",
    "#in the vcf format, the rows with 'PASS' show up with no filters\n",
    "#the len(x.FILTER)==0 check is there just to be on the safe side,\n",
    "#in case the input hasn't been filtered.\n",
    "records = [x for x in vcf_reader if len(x.FILTER)==0]"
   ]
  },
  {
   "cell_type": "code",
   "execution_count": 114,
   "metadata": {
    "collapsed": false
   },
   "outputs": [
    {
     "name": "stdout",
     "output_type": "stream",
     "text": [
      "839542\n"
     ]
    }
   ],
   "source": [
    "print(len(records)) #before filtering for variant allele frequency"
   ]
  },
  {
   "cell_type": "code",
   "execution_count": 102,
   "metadata": {
    "collapsed": false
   },
   "outputs": [],
   "source": [
    "import numpy as np\n",
    "vafs = np.array([get_snv_variant_allele_frequencies(x) for x in records])"
   ]
  },
  {
   "cell_type": "code",
   "execution_count": 108,
   "metadata": {
    "collapsed": false
   },
   "outputs": [
    {
     "data": {
      "image/png": "[encoded data removed]",
      "text/plain": [
       "<Figure size 600x400 with 1 Axes>"
      ]
     },
     "metadata": {},
     "output_type": "display_data"
    }
   ],
   "source": [
    "%matplotlib inline\n",
    "from matplotlib import pyplot as plt\n",
    "plt.hist(vafs, bins=100)\n",
    "plt.show()"
   ]
  },
  {
   "cell_type": "code",
   "execution_count": 128,
   "metadata": {
    "collapsed": false
   },
   "outputs": [
    {
     "name": "stdout",
     "output_type": "stream",
     "text": [
      "threshold 0.2 num 19880\n",
      "threshold 0.4 num 4296\n",
      "threshold 0.6 num 892\n",
      "threshold 0.8 num 177\n",
      "threshold 1.0 num 83\n"
     ]
    }
   ],
   "source": [
    "#Disclaimer: I do not know what a good VAF threshold is. I note\n",
    "#that most of the stuff that comes up when I set a threshold of 1.0\n",
    "#is from chrY, which seeems like an artifact.\n",
    "vaf_thresholds = [0.2, 0.4, 0.6, 0.8, 1.0]\n",
    "for vaf_threshold in vaf_thresholds:\n",
    "    print(\"threshold\",vaf_threshold,\"num\",sum(vafs >= vaf_threshold))\n",
    "    vcf_writer = vcf.Writer(open(\"data/somatic/results/variants/VAF_\"+str(vaf_threshold)+\"_somatic.snvs.vcf\",'w'),\n",
    "                         vcf_reader)\n",
    "    for vaf,record in zip(vafs,records):\n",
    "        if (vaf >= vaf_threshold):\n",
    "            vcf_writer.write_record(record)\n",
    "    vcf_writer.close()"
   ]
  },
  {
   "cell_type": "code",
   "execution_count": null,
   "metadata": {
    "collapsed": true
   },
   "outputs": [],
   "source": []
  }
 ],
 "metadata": {
  "kernelspec": {
   "display_name": "Python 2",
   "language": "python",
   "name": "python2"
  }
 },
 "nbformat": 4,
 "nbformat_minor": 0
}
