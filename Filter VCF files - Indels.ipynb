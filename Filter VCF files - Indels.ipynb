{
 "cells": [
  {
   "cell_type": "code",
   "execution_count": 7,
   "metadata": {
    "collapsed": true
   },
   "outputs": [],
   "source": [
    "import os, re, gzip\n",
    "from __future__ import print_function, division\n",
    "\n",
    "\n",
    "def get_file_handle(filename,mode=\"r\"):                                         \n",
    "    if (re.search('.gz$',filename) or re.search('.gzip',filename)):             \n",
    "        if (mode==\"r\"):                                                         \n",
    "            mode=\"rb\";                                                          \n",
    "        elif (mode==\"w\"):                                                       \n",
    "            #I think write will actually append if the file already             \n",
    "            #exists...so you want to remove it if it exists                     \n",
    "            if os.path.isfile(filename):                                        \n",
    "                os.remove(filename);                                            \n",
    "        return gzip.open(filename,mode)                                         \n",
    "    else:                                                                       \n",
    "        return open(filename,mode) \n",
    "    \n",
    "def get_indel_variant_allele_frequencies(record):\n",
    "    refcounts = record.genotype(\"TUMOR\").data.TAR\n",
    "    altcounts = record.genotype(\"TUMOR\").data.TIR\n",
    "    #following https://github.com/Illumina/strelka/blob/master/docs/userGuide/README.md#somatic\n",
    "    vaf = float(altcounts[0])/(altcounts[0] + refcounts[0])\n",
    "    return vaf"
   ]
  },
  {
   "cell_type": "code",
   "execution_count": 1,
   "metadata": {
    "collapsed": false
   },
   "outputs": [],
   "source": [
    "#install pyvcf\n",
    "import vcf\n",
    "\n",
    "#When I filter `somatic.indels.vcf.gz` down to all rows that contained a “PASS” in the filter column,\n",
    "#the file size goes from 15M to 164K. Something to keep in mind.\n",
    "#The command I used to do the filtering was\n",
    "#zcat somatic.indels.vcf.gz | perl -lane 'if ((substr($_,0,1) eq \"#\") or ($F[6] eq 'PASS')) {print $_}' | gzip -c > passing_somatic.indels.vcf.gz\n",
    "\n",
    "somatic_vcf_file_path = \"data/somatic/results/variants/passing_somatic.indels.vcf.gz\"\n",
    "vcf_reader = vcf.Reader(open(somatic_vcf_file_path))\n",
    "#in the vcf format, the rows with 'PASS' show up with no filters\n",
    "#the len(x.FILTER)==0 check is there just to be on the safe side,\n",
    "#in case the input hasn't been filtered.\n",
    "records = [x for x in vcf_reader if len(x.FILTER)==0]"
   ]
  },
  {
   "cell_type": "code",
   "execution_count": 8,
   "metadata": {
    "collapsed": false
   },
   "outputs": [
    {
     "name": "stdout",
     "output_type": "stream",
     "text": [
      "2686\n"
     ]
    }
   ],
   "source": [
    "print(len(records)) #before filtering for variant allele frequency"
   ]
  },
  {
   "cell_type": "code",
   "execution_count": 24,
   "metadata": {
    "collapsed": false
   },
   "outputs": [
    {
     "name": "stdout",
     "output_type": "stream",
     "text": [
      "Record(CHROM=chr10, POS=1102570, REF=GGGT, ALT=[G])\n",
      "CallData(DP=52, DP2=52, TAR=[39, 45], TIR=[5, 5], TOR=[10, 6], DP50=54.06, FDP50=2.07, SUBDP50=0.0, BCN50=0.04)\n"
     ]
    }
   ],
   "source": [
    "print(records[0])\n",
    "print(records[0].genotype('TUMOR').data)"
   ]
  },
  {
   "cell_type": "code",
   "execution_count": 10,
   "metadata": {
    "collapsed": false
   },
   "outputs": [],
   "source": [
    "import numpy as np\n",
    "vafs = np.array([get_indel_variant_allele_frequencies(x) for x in records])"
   ]
  },
  {
   "cell_type": "code",
   "execution_count": 11,
   "metadata": {
    "collapsed": true
   },
   "outputs": [],
   "source": [
    "#DP50 is average tier1 read depth within 50bp. Based on:\n",
    "#https://sites.google.com/site/strelkasomaticvariantcaller/home/somatic-variant-output\n",
    "tumor_tier1_read_depths = np.array([(x.genotype('TUMOR').data.DP50 - x.genotype('TUMOR').data.FDP50)\n",
    "                                    for x in records])"
   ]
  },
  {
   "cell_type": "code",
   "execution_count": 12,
   "metadata": {
    "collapsed": false
   },
   "outputs": [
    {
     "data": {
      "image/png": "[encoded data removed]",
      "text/plain": [
       "<Figure size 600x400 with 1 Axes>"
      ]
     },
     "metadata": {},
     "output_type": "display_data"
    }
   ],
   "source": [
    "%matplotlib inline\n",
    "from matplotlib import pyplot as plt\n",
    "plt.hist(vafs, bins=100)\n",
    "plt.show()"
   ]
  },
  {
   "cell_type": "code",
   "execution_count": 13,
   "metadata": {
    "collapsed": false
   },
   "outputs": [
    {
     "data": {
      "image/png": "[encoded data removed]",
      "text/plain": [
       "<Figure size 600x400 with 1 Axes>"
      ]
     },
     "metadata": {},
     "output_type": "display_data"
    }
   ],
   "source": [
    "plt.hist(np.log(tumor_tier1_read_depths)/np.log(10), bins=100)\n",
    "plt.xlabel(\"Log tumor tier1 read depth\")\n",
    "plt.show()\n"
   ]
  },
  {
   "cell_type": "code",
   "execution_count": 25,
   "metadata": {
    "collapsed": false
   },
   "outputs": [
    {
     "name": "stdout",
     "output_type": "stream",
     "text": [
      "\n",
      "threshold 0.2 num 1238\n",
      "Mean tier1 read depth: 70.8094668821\n",
      "\n",
      "threshold 0.4 num 378\n",
      "Mean tier1 read depth: 69.3973015873\n",
      "\n",
      "threshold 0.6 num 59\n",
      "Mean tier1 read depth: 55.4728813559\n",
      "\n",
      "threshold 0.8 num 10\n",
      "Mean tier1 read depth: 48.423\n",
      "\n",
      "threshold 0.9 num 3\n",
      "Mean tier1 read depth: 46.1233333333\n",
      "\n",
      "threshold 1.0 num 2\n",
      "Mean tier1 read depth: 56.32\n"
     ]
    }
   ],
   "source": [
    "write_to_file = True #writing out files will take time\n",
    "\n",
    "#Disclaimer: I do not know what a good VAF threshold is. I note\n",
    "#that most of the stuff that comes up when I set a threshold of 1.0\n",
    "#is from chrY, which seeems like an artifact.\n",
    "vaf_thresholds = [0.2, 0.4, 0.6, 0.8, 0.9, 1.0]#[0.0, 0.05, 0.1, 0.2, 0.4, 0.6, 0.8, 0.9, 1.0\n",
    "\n",
    "min_read_depth = 12\n",
    "#max_read_depth = 500\n",
    "\n",
    "for vaf_threshold in vaf_thresholds:\n",
    "    if (write_to_file):\n",
    "        vcf_writer = vcf.Writer(open(\"data/somatic/results/variants/VAF_\"+str(vaf_threshold)+\"_somatic.indels.vcf\",'w'),\n",
    "                         vcf_reader)\n",
    "    total_num = 0\n",
    "    total_tumor_tier1_reads = 0\n",
    "    total_tumor_reads = 0\n",
    "    for vaf,record in zip(vafs,records):\n",
    "        if (vaf >= vaf_threshold):         \n",
    "            #DP and FDP are described here: https://sites.google.com/site/strelkasomaticvariantcaller/home/somatic-variant-output\n",
    "            #DP is read depth, FDP is filtered read depth\n",
    "            tier1_reads = record.genotype('TUMOR').data.DP50 - record.genotype('TUMOR').data.FDP50\n",
    "            #total_tumor_reads += record.genotype('TUMOR').data.DP \n",
    "            if (tier1_reads >= min_read_depth):\n",
    "                total_num += 1\n",
    "                total_tumor_tier1_reads += tier1_reads\n",
    "                if (write_to_file):\n",
    "                    vcf_writer.write_record(record)\n",
    "    print(\"\\nthreshold\",vaf_threshold,\"num\",total_num)\n",
    "    if (total_num > 0):\n",
    "        print(\"Mean tier1 read depth:\",total_tumor_tier1_reads/total_num)\n",
    "    if (write_to_file):\n",
    "        vcf_writer.close()"
   ]
  },
  {
   "cell_type": "code",
   "execution_count": null,
   "metadata": {
    "collapsed": true
   },
   "outputs": [],
   "source": []
  }
 ],
 "metadata": {
  "kernelspec": {
   "display_name": "Python 2",
   "language": "python",
   "name": "python2"
  },
  "language_info": {
   "codemirror_mode": {
    "name": "ipython",
    "version": 2
   },
   "file_extension": ".py",
   "mimetype": "text/x-python",
   "name": "python",
   "nbconvert_exporter": "python",
   "pygments_lexer": "ipython2",
   "version": "2.7.12"
  }
 },
 "nbformat": 4,
 "nbformat_minor": 0
}
